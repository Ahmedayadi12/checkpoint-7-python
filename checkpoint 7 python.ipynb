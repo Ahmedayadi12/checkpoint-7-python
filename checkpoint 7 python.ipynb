{
 "cells": [
  {
   "cell_type": "code",
   "execution_count": 9,
   "id": "f686cd36",
   "metadata": {},
   "outputs": [
    {
     "name": "stdout",
     "output_type": "stream",
     "text": [
      "False\n",
      "True\n"
     ]
    }
   ],
   "source": [
    "def binary_search(sequence, point):\n",
    "    start = 0\n",
    "    end = len(sequence) - 1\n",
    "\n",
    "    while start <= end:\n",
    "        midpoint = start + (end - start) // 2\n",
    "        midpointValue =sequence[midpoint]\n",
    "        if midpointValue == point:\n",
    "            return True\n",
    "        elif point < midpointValue:\n",
    "            end = midpoint - 1\n",
    "        else:\n",
    "            start = midpoint + 1\n",
    "  \n",
    "    return False\n",
    "\n",
    "print(binary_search([1,2,3,5,8], 6))\n",
    "print(binary_search([1,2,3,5,8], 5))"
   ]
  },
  {
   "cell_type": "code",
   "execution_count": 10,
   "id": "aaf8bf43",
   "metadata": {},
   "outputs": [
    {
     "name": "stdout",
     "output_type": "stream",
     "text": [
      "81\n"
     ]
    }
   ],
   "source": [
    "def power(a, b):\n",
    "    return a**b\n",
    "\n",
    "print(power(3, 4))"
   ]
  },
  {
   "cell_type": "code",
   "execution_count": 11,
   "id": "3436eda7",
   "metadata": {},
   "outputs": [
    {
     "name": "stdout",
     "output_type": "stream",
     "text": [
      "[13, 22, 29, 37, 46, 49, 52, 56, 71]\n"
     ]
    }
   ],
   "source": [
    "def bubbleSort(sequence):\n",
    "    for i in range(len(sequence)-1, 0, -1):\n",
    "        for j in range(i):\n",
    "            if sequence[j] > sequence[j+1]:\n",
    "                sequence[j], sequence[j+1] = sequence[j+1], sequence[j]\n",
    "    return sequence\n",
    "\n",
    "print(bubbleSort([29,13,22,37,52,49,46,71,56]))"
   ]
  },
  {
   "cell_type": "code",
   "execution_count": 15,
   "id": "f0a0b10c",
   "metadata": {},
   "outputs": [
    {
     "name": "stdout",
     "output_type": "stream",
     "text": [
      "[13, 22, 29, 37, 46, 49, 52, 56, 71]\n"
     ]
    }
   ],
   "source": [
    "def mergeSort(sequence):\n",
    "    if(len(sequence) > 1):\n",
    "        mid = len(sequence) // 2\n",
    "        right = sequence[mid:]\n",
    "        left = sequence[:mid]\n",
    "\n",
    "        mergeSort(right)\n",
    "        mergeSort(left)\n",
    "\n",
    "        i = 0\n",
    "        j = 0\n",
    "        k = 0\n",
    "\n",
    "        while i < len(left) and j < len(right):\n",
    "            if left[i] < right[j]:\n",
    "                sequence[k] = left[i]\n",
    "                i += 1\n",
    "            else:\n",
    "                sequence[k] = right[j]\n",
    "                j += 1\n",
    "            k += 1\n",
    "      \n",
    "        while i < len(left):\n",
    "            sequence[k] = left[i]\n",
    "            i += 1\n",
    "        while j < len(right):\n",
    "            sequence[k] = right[j]\n",
    "            j+=1\n",
    "            k+=1\n",
    "    return sequence\n",
    "\n",
    "print(mergeSort([29,13,22,37,52,49,46,71,56]))"
   ]
  },
  {
   "cell_type": "code",
   "execution_count": 16,
   "id": "57a8a482",
   "metadata": {},
   "outputs": [
    {
     "name": "stdout",
     "output_type": "stream",
     "text": [
      "[13, 22, 29, 37, 46, 49, 52, 56, 71]\n"
     ]
    }
   ],
   "source": [
    "def part(array, start, end):\n",
    "    pivot = array[start]\n",
    "    low = start + 1\n",
    "    high = end\n",
    "    while True:\n",
    "        while low <= high and array[high] >= pivot:\n",
    "            high -= 1 \n",
    "        while low <= high and array[low] <= pivot:\n",
    "            low += 1\n",
    "        if low <= high:\n",
    "            array[low], array[high] = array[high], array[low]\n",
    "        else:\n",
    "            break\n",
    "\n",
    "    array[start], array[high] = array[high], array[start]\n",
    "\n",
    "    return high\n",
    "\n",
    "def quickSort(array, start, end):\n",
    "    if start >= end:\n",
    "        return\n",
    "    p = part(array, start, end)\n",
    "    quickSort(array, start, p-1)\n",
    "    quickSort(array, p+1, end)\n",
    "\n",
    "array = [29,13,22,37,52,49,46,71,56]\n",
    "quickSort(array, 0, len(array)-1)\n",
    "print(array)"
   ]
  },
  {
   "cell_type": "code",
   "execution_count": null,
   "id": "f504ac37",
   "metadata": {},
   "outputs": [],
   "source": []
  }
 ],
 "metadata": {
  "kernelspec": {
   "display_name": "Python 3",
   "language": "python",
   "name": "python3"
  },
  "language_info": {
   "codemirror_mode": {
    "name": "ipython",
    "version": 3
   },
   "file_extension": ".py",
   "mimetype": "text/x-python",
   "name": "python",
   "nbconvert_exporter": "python",
   "pygments_lexer": "ipython3",
   "version": "3.8.8"
  }
 },
 "nbformat": 4,
 "nbformat_minor": 5
}
